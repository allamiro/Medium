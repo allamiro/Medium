{
 "cells": [
  {
   "cell_type": "code",
   "execution_count": null,
   "metadata": {},
   "outputs": [],
   "source": [
    "!pip install pytesseract pillow"
   ]
  },
  {
   "cell_type": "markdown",
   "metadata": {},
   "source": [
    "#### Import the necessary libraries and Load the Images"
   ]
  },
  {
   "cell_type": "code",
   "execution_count": 1,
   "metadata": {},
   "outputs": [
    {
     "name": "stdout",
     "output_type": "stream",
     "text": [
      "['page_44.png', 'page_60.png', 'page_42.png', 'page_23.png', 'page_18.png', 'page_50.png', 'page_52.png', 'page_63.png', 'page_66.png', 'page_56.png', 'page_26.png', 'page_68.png', 'page_30.png', 'page_14.png', 'page_59.png', 'page_35.png', 'page_46.png', 'page_33.png', 'page_43.png', 'page_16.png', 'page_65.png', 'page_58.png', 'page_28.png', 'page_36.png', 'page_11.png', 'page_25.png', 'page_15.png', 'page_24.png', 'page_40.png', 'page_53.png', 'page_41.png', 'page_70.png', 'page_49.png', 'page_12.png', 'page_47.png', 'page_69.png', 'page_17.png', 'page_48.png', 'page_13.png', 'page_64.png', 'page_61.png', 'page_32.png', 'page_57.png', 'page_27.png', 'page_29.png', 'page_38.png', 'page_45.png', 'page_19.png', 'page_10.png', 'page_9.png', 'page_62.png', 'page_31.png', 'page_34.png', 'page_39.png', 'page_37.png', 'page_67.png', 'page_21.png', 'page_20.png', 'page_55.png', 'page_51.png', 'page_54.png', 'page_22.png']\n"
     ]
    }
   ],
   "source": [
    "import pytesseract\n",
    "from PIL import Image\n",
    "import os\n",
    "import json\n",
    "import pandas as pd\n",
    "\n",
    "!export TESSDATA_PREFIX=/usr/share/tesseract-ocr/4.00/tessdata/\n",
    "pytesseract.pytesseract.tesseract_cmd = r'/usr/bin/tesseract'  \n",
    "os.environ['TESSDATA_PREFIX'] = '/usr/share/tesseract-ocr/4.00/tessdata/'\n",
    "image_dir = 'bible/'\n",
    "images = [f for f in os.listdir(image_dir) if f.endswith('.png')]\n",
    "print(images)"
   ]
  },
  {
   "cell_type": "markdown",
   "metadata": {},
   "source": [
    "#### OCR Function"
   ]
  },
  {
   "cell_type": "code",
   "execution_count": 3,
   "metadata": {},
   "outputs": [],
   "source": [
    "def extract_text_from_region(image_path, region, lang='amh'):\n",
    "    with Image.open(image_path) as img:\n",
    "        cropped_img = img.crop(region)\n",
    "        text = pytesseract.image_to_string(cropped_img, lang=lang)\n",
    "    return text"
   ]
  },
  {
   "cell_type": "markdown",
   "metadata": {},
   "source": [
    "#### Extracting Text from Annotated Regions"
   ]
  },
  {
   "cell_type": "code",
   "execution_count": 5,
   "metadata": {},
   "outputs": [],
   "source": [
    "annotation_dir = 'preprocessed_bible_ann/'\n",
    "annotations = []\n",
    "\n",
    "\n",
    "for file_name in os.listdir(annotation_dir):\n",
    "    if file_name.endswith('.json'):\n",
    "        file_path = os.path.join(annotation_dir, file_name)\n",
    "        with open(file_path, 'r', encoding='utf-8') as f:\n",
    "            data = json.load(f)\n",
    "            image_path = os.path.join(image_dir, data['imagePath'])\n",
    "            for shape in data['shapes']:\n",
    "                label = shape['label']\n",
    "                points = shape['points']\n",
    "                x_min = min([p[0] for p in points])\n",
    "                y_min = min([p[1] for p in points])\n",
    "                x_max = max([p[0] for p in points])\n",
    "                y_max = max([p[1] for p in points])\n",
    "                region = (x_min, y_min, x_max, y_max)\n",
    "                text = extract_text_from_region(image_path, region)\n",
    "                annotations.append({\n",
    "                    'image': image_path,\n",
    "                    'label': label,\n",
    "                    'region': region,\n",
    "                    'text': text\n",
    "                })"
   ]
  },
  {
   "cell_type": "markdown",
   "metadata": {},
   "source": [
    "#### Saving the data"
   ]
  },
  {
   "cell_type": "code",
   "execution_count": 6,
   "metadata": {},
   "outputs": [
    {
     "data": {
      "text/html": [
       "<div>\n",
       "<style scoped>\n",
       "    .dataframe tbody tr th:only-of-type {\n",
       "        vertical-align: middle;\n",
       "    }\n",
       "\n",
       "    .dataframe tbody tr th {\n",
       "        vertical-align: top;\n",
       "    }\n",
       "\n",
       "    .dataframe thead th {\n",
       "        text-align: right;\n",
       "    }\n",
       "</style>\n",
       "<table border=\"1\" class=\"dataframe\">\n",
       "  <thead>\n",
       "    <tr style=\"text-align: right;\">\n",
       "      <th></th>\n",
       "      <th>image</th>\n",
       "      <th>label</th>\n",
       "      <th>region</th>\n",
       "      <th>text</th>\n",
       "    </tr>\n",
       "  </thead>\n",
       "  <tbody>\n",
       "    <tr>\n",
       "      <th>0</th>\n",
       "      <td>bible/../bible/page_10.png</td>\n",
       "      <td>page_10</td>\n",
       "      <td>(156.8275862068965, 145.43103448275855, 958.55...</td>\n",
       "      <td>\\n \\n \\n\\nቋ ዘሉንዞለ ነኽአኽግይሁ |\\n\\n \\n\\n \\n\\n% ቭ....</td>\n",
       "    </tr>\n",
       "    <tr>\n",
       "      <th>1</th>\n",
       "      <td>bible/../bible/page_9.png</td>\n",
       "      <td>page_9</td>\n",
       "      <td>(36.561403508771946, 143.4298245614036, 880.42...</td>\n",
       "      <td>ያሴስል ክጦቡለኢፅ\\nቦቱዞ፦ፀክልኒ 5ዐ.ሆት፡\\nወሐየርያፉ አኔክፀቀ፡ክ\\n...</td>\n",
       "    </tr>\n",
       "    <tr>\n",
       "      <th>2</th>\n",
       "      <td>bible/../bible/page_12.png</td>\n",
       "      <td>page_12</td>\n",
       "      <td>(185.58490566037744, 90.01886792452837, 1000.6...</td>\n",
       "      <td>\\n\\nተ ።ቕ\\nመ።፡ 5ሃ።2ክ፣ዘህኩሎ።:ወይ\\n|ይቃ፡ወለ 5 መጽእ፡...</td>\n",
       "    </tr>\n",
       "    <tr>\n",
       "      <th>3</th>\n",
       "      <td>bible/../bible/page_15.png</td>\n",
       "      <td>page_15</td>\n",
       "      <td>(10.076923076923094, 86.23076923076928, 890.84...</td>\n",
       "      <td>\\n   \\n \\n\\nህ መጣዘሮድጩ ጳ፣፲ጄቶ\\nሀ'ዊጅ፻5 58፡88 ጩ5፣...</td>\n",
       "    </tr>\n",
       "    <tr>\n",
       "      <th>4</th>\n",
       "      <td>bible/../bible/page_14.png</td>\n",
       "      <td>page_14</td>\n",
       "      <td>(108.2962962962963, 80.12962962962969, 978.666...</td>\n",
       "      <td>፡ የመዬ፡ ፀዖዞብኔ ሏትቅፉ\\nፎ»፡ ፮፯ጭ፲ብ፡ተዱ፴\\n\\nዌ፲ወጸጎራቂፄዘሕ...</td>\n",
       "    </tr>\n",
       "    <tr>\n",
       "      <th>5</th>\n",
       "      <td>bible/../bible/page_13.png</td>\n",
       "      <td>page_13</td>\n",
       "      <td>(23.538461538461547, 88.15384615384622, 885.07...</td>\n",
       "      <td>ኃዠ 6በ:ህጢዚየ፡ ጸመ?\\n|ኛ ክ ሠሠ-ታሰ-:ግ\\n! መሙሽ ሰ 2: ፳ቹሕ...</td>\n",
       "    </tr>\n",
       "    <tr>\n",
       "      <th>6</th>\n",
       "      <td>bible/../bible/page_11.png</td>\n",
       "      <td>page_11</td>\n",
       "      <td>(15.921568627451052, 126.19607843137257, 857.0...</td>\n",
       "      <td>\\n\\nከር.።  ሖ.ዳ . . .9ወ. ህቂ\\n፻8፦ ዕን ት፡5ጻ3\\nአዥብ፣...</td>\n",
       "    </tr>\n",
       "  </tbody>\n",
       "</table>\n",
       "</div>"
      ],
      "text/plain": [
       "                        image    label  \\\n",
       "0  bible/../bible/page_10.png  page_10   \n",
       "1   bible/../bible/page_9.png   page_9   \n",
       "2  bible/../bible/page_12.png  page_12   \n",
       "3  bible/../bible/page_15.png  page_15   \n",
       "4  bible/../bible/page_14.png  page_14   \n",
       "5  bible/../bible/page_13.png  page_13   \n",
       "6  bible/../bible/page_11.png  page_11   \n",
       "\n",
       "                                              region  \\\n",
       "0  (156.8275862068965, 145.43103448275855, 958.55...   \n",
       "1  (36.561403508771946, 143.4298245614036, 880.42...   \n",
       "2  (185.58490566037744, 90.01886792452837, 1000.6...   \n",
       "3  (10.076923076923094, 86.23076923076928, 890.84...   \n",
       "4  (108.2962962962963, 80.12962962962969, 978.666...   \n",
       "5  (23.538461538461547, 88.15384615384622, 885.07...   \n",
       "6  (15.921568627451052, 126.19607843137257, 857.0...   \n",
       "\n",
       "                                                text  \n",
       "0   \\n \\n \\n\\nቋ ዘሉንዞለ ነኽአኽግይሁ |\\n\\n \\n\\n \\n\\n% ቭ....  \n",
       "1  ያሴስል ክጦቡለኢፅ\\nቦቱዞ፦ፀክልኒ 5ዐ.ሆት፡\\nወሐየርያፉ አኔክፀቀ፡ክ\\n...  \n",
       "2     \\n\\nተ ።ቕ\\nመ።፡ 5ሃ።2ክ፣ዘህኩሎ።:ወይ\\n|ይቃ፡ወለ 5 መጽእ፡...  \n",
       "3    \\n   \\n \\n\\nህ መጣዘሮድጩ ጳ፣፲ጄቶ\\nሀ'ዊጅ፻5 58፡88 ጩ5፣...  \n",
       "4  ፡ የመዬ፡ ፀዖዞብኔ ሏትቅፉ\\nፎ»፡ ፮፯ጭ፲ብ፡ተዱ፴\\n\\nዌ፲ወጸጎራቂፄዘሕ...  \n",
       "5  ኃዠ 6በ:ህጢዚየ፡ ጸመ?\\n|ኛ ክ ሠሠ-ታሰ-:ግ\\n! መሙሽ ሰ 2: ፳ቹሕ...  \n",
       "6   \\n\\nከር.።  ሖ.ዳ . . .9ወ. ህቂ\\n፻8፦ ዕን ት፡5ጻ3\\nአዥብ፣...  "
      ]
     },
     "execution_count": 6,
     "metadata": {},
     "output_type": "execute_result"
    }
   ],
   "source": [
    "df = pd.DataFrame(annotations)\n",
    "df.to_csv('extracted_texts.csv', index=False, encoding='utf-8')\n",
    "df.head(10)"
   ]
  }
 ],
 "metadata": {
  "kernelspec": {
   "display_name": "Python 3",
   "language": "python",
   "name": "python3"
  },
  "language_info": {
   "codemirror_mode": {
    "name": "ipython",
    "version": 3
   },
   "file_extension": ".py",
   "mimetype": "text/x-python",
   "name": "python",
   "nbconvert_exporter": "python",
   "pygments_lexer": "ipython3",
   "version": "3.10.12"
  }
 },
 "nbformat": 4,
 "nbformat_minor": 2
}
