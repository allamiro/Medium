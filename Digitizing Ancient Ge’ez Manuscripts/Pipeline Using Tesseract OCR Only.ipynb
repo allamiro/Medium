{
 "cells": [
  {
   "cell_type": "code",
   "execution_count": 1,
   "metadata": {},
   "outputs": [
    {
     "name": "stdout",
     "output_type": "stream",
     "text": [
      "Defaulting to user installation because normal site-packages is not writeable\n",
      "Collecting pytesseract\n",
      "  Using cached pytesseract-0.3.10-py3-none-any.whl.metadata (11 kB)\n",
      "Requirement already satisfied: pillow in /home/tsuliman/.local/lib/python3.10/site-packages (10.3.0)\n",
      "Requirement already satisfied: packaging>=21.3 in /home/tsuliman/.local/lib/python3.10/site-packages (from pytesseract) (24.0)\n",
      "Using cached pytesseract-0.3.10-py3-none-any.whl (14 kB)\n",
      "\u001b[33mDEPRECATION: python-apt 2.4.0-ubuntu3-zorin1 has a non-standard version number. pip 24.1 will enforce this behaviour change. A possible replacement is to upgrade to a newer version of python-apt or contact the author to suggest that they release a version with a conforming version number. Discussion can be found at https://github.com/pypa/pip/issues/12063\u001b[0m\u001b[33m\n",
      "\u001b[0mInstalling collected packages: pytesseract\n",
      "Successfully installed pytesseract-0.3.10\n"
     ]
    }
   ],
   "source": [
    "!pip install pytesseract pillow"
   ]
  },
  {
   "cell_type": "code",
   "execution_count": 9,
   "metadata": {},
   "outputs": [],
   "source": [
    "from PIL import Image, ImageOps\n",
    "import pytesseract\n",
    "import os\n",
    "import json "
   ]
  },
  {
   "cell_type": "code",
   "execution_count": 3,
   "metadata": {},
   "outputs": [],
   "source": [
    "pytesseract.pytesseract.tesseract_cmd = r'/usr/bin/tesseract'  # Adjust this path as needed\n",
    "!export TESSDATA_PREFIX=/usr/share/tesseract-ocr/4.00/tessdata/\n",
    "os.environ['TESSDATA_PREFIX'] = '/usr/share/tesseract-ocr/4.00/tessdata/'"
   ]
  },
  {
   "cell_type": "markdown",
   "metadata": {},
   "source": [
    "### Import the necessary libraries and Load the Images"
   ]
  },
  {
   "cell_type": "code",
   "execution_count": 4,
   "metadata": {},
   "outputs": [
    {
     "name": "stdout",
     "output_type": "stream",
     "text": [
      "['page_44.png', 'page_60.png', 'page_42.png', 'page_23.png', 'page_18.png', 'page_50.png', 'page_52.png', 'page_63.png', 'page_66.png', 'page_56.png', 'page_26.png', 'page_68.png', 'page_30.png', 'page_14.png', 'page_59.png', 'page_35.png', 'page_46.png', 'page_33.png', 'page_43.png', 'page_16.png', 'page_65.png', 'page_58.png', 'page_28.png', 'page_36.png', 'page_11.png', 'page_25.png', 'page_15.png', 'page_24.png', 'page_40.png', 'page_53.png', 'page_41.png', 'page_70.png', 'page_49.png', 'page_12.png', 'page_47.png', 'page_69.png', 'page_17.png', 'page_48.png', 'page_13.png', 'page_64.png', 'page_61.png', 'page_32.png', 'page_57.png', 'page_27.png', 'page_29.png', 'page_38.png', 'page_45.png', 'page_19.png', 'page_10.png', 'page_9.png', 'page_62.png', 'page_31.png', 'page_34.png', 'page_39.png', 'page_37.png', 'page_67.png', 'page_21.png', 'page_20.png', 'page_55.png', 'page_51.png', 'page_54.png', 'page_22.png']\n"
     ]
    }
   ],
   "source": [
    "image_dir = 'bible/'\n",
    "images = [f for f in os.listdir(image_dir) if f.endswith('.png')]\n",
    "print(images)"
   ]
  },
  {
   "cell_type": "markdown",
   "metadata": {},
   "source": [
    "### Preprocess the images"
   ]
  },
  {
   "cell_type": "code",
   "execution_count": 5,
   "metadata": {},
   "outputs": [],
   "source": [
    "def preprocess_image(image_path, output_path):\n",
    "    with Image.open(image_path) as img:\n",
    "        gray_img = ImageOps.grayscale(img)\n",
    "        bw_img = gray_img.point(lambda x: 0 if x < 128 else 255, '1')\n",
    "        bw_img.save(output_path)"
   ]
  },
  {
   "cell_type": "code",
   "execution_count": 6,
   "metadata": {},
   "outputs": [],
   "source": [
    "output_dir = 'preprocessed_bible/'\n",
    "os.makedirs(output_dir, exist_ok=True)\n",
    "for image_name in os.listdir(image_dir):\n",
    "    if image_name.endswith('.png'):\n",
    "        preprocess_image(os.path.join(image_dir, image_name), os.path.join(output_dir, image_name))"
   ]
  },
  {
   "cell_type": "markdown",
   "metadata": {},
   "source": [
    "### Applying OCR Function"
   ]
  },
  {
   "cell_type": "code",
   "execution_count": 7,
   "metadata": {},
   "outputs": [],
   "source": [
    "def extract_text_from_image(image_path, lang='amh'):\n",
    "    with Image.open(image_path) as img:\n",
    "        text = pytesseract.image_to_string(img, lang=lang)\n",
    "    return text"
   ]
  },
  {
   "cell_type": "markdown",
   "metadata": {},
   "source": [
    "### Extracting Text from Annotated Regions Using Tesseract"
   ]
  },
  {
   "cell_type": "code",
   "execution_count": 15,
   "metadata": {},
   "outputs": [
    {
     "name": "stdout",
     "output_type": "stream",
     "text": [
      "None\n"
     ]
    }
   ],
   "source": [
    "image_dir = 'preprocessed_bible/'\n",
    "extracted_texts = {}\n",
    "for image_name in os.listdir(image_dir):\n",
    "    if image_name.endswith('.png'):\n",
    "        image_path = os.path.join(image_dir, image_name)\n",
    "        text = extract_text_from_image(image_path)\n",
    "        extracted_texts[image_name] = text\n",
    "\n",
    "with open('extracted_texts.json', 'w', encoding='utf-8') as f:\n",
    "     json.dump(extracted_texts, f, ensure_ascii=False, indent=4)\n",
    "   "
   ]
  }
 ],
 "metadata": {
  "kernelspec": {
   "display_name": "Python 3",
   "language": "python",
   "name": "python3"
  },
  "language_info": {
   "codemirror_mode": {
    "name": "ipython",
    "version": 3
   },
   "file_extension": ".py",
   "mimetype": "text/x-python",
   "name": "python",
   "nbconvert_exporter": "python",
   "pygments_lexer": "ipython3",
   "version": "3.10.12"
  }
 },
 "nbformat": 4,
 "nbformat_minor": 2
}
